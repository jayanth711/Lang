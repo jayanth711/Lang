{
 "cells": [
  {
   "cell_type": "markdown",
   "metadata": {},
   "source": [
    "### simple GENAI app using Lnagchain"
   ]
  },
  {
   "cell_type": "code",
   "execution_count": 1,
   "metadata": {},
   "outputs": [],
   "source": [
    "import os\n",
    "from dotenv import load_dotenv\n",
    "load_dotenv()\n",
    "\n",
    "os.environ['OPENAI_API_KEY']=os.getenv(\"OPENAI_API_KEY\")\n",
    "os.environ['LANGCHAIN_API_KEY']=os.getenv(\"LANGCHAIN_API_KEY\")\n",
    "os.environ['LANGCHAIN_TRACING_V2']=\"true\"\n",
    "os.environ[\"LANGCHAIN_PROJECT\"]= os.getenv(\"LANGCHAIN_PROJECT\")"
   ]
  },
  {
   "cell_type": "code",
   "execution_count": 3,
   "metadata": {},
   "outputs": [],
   "source": [
    "### Data Ingestion from the website, we need to scrape the data\n",
    "\n",
    "from langchain_community.document_loaders import WebBaseLoader"
   ]
  },
  {
   "cell_type": "code",
   "execution_count": 4,
   "metadata": {},
   "outputs": [
    {
     "data": {
      "text/plain": [
       "<langchain_community.document_loaders.web_base.WebBaseLoader at 0x15283a5f760>"
      ]
     },
     "execution_count": 4,
     "metadata": {},
     "output_type": "execute_result"
    }
   ],
   "source": [
    "loader= WebBaseLoader(\"https://writer.com/blog/palmyra-llms-multilingual/?utm_source=google&utm_medium=paid-search&utm_campaign=multilingual&utm_content=multilingual-blog-post&utm_source=google&utm_medium=paid_search&utm_campaign=&utm_term=multilingual%20llm&utm_content=&hsa_acc=8779610535&hsa_cam=20957109982&hsa_grp=158242513895&hsa_ad=688126356904&hsa_src=g&hsa_tgt=kwd-2228024943017&hsa_kw=multilingual%20llm&hsa_mt=b&hsa_net=adwords&hsa_ver=3&gad_source=1&gclid=Cj0KCQjw99e4BhDiARIsAISE7P-8lapEODR3L9fXGY9r-xpddqrBDTD7xDQKVjKVolYNEU72v5i0WRcaAlA8EALw_wcB\")\n",
    "loader"
   ]
  },
  {
   "cell_type": "code",
   "execution_count": 5,
   "metadata": {},
   "outputs": [
    {
     "data": {
      "text/plain": [
       "[Document(metadata={'source': 'https://writer.com/blog/palmyra-llms-multilingual/?utm_source=google&utm_medium=paid-search&utm_campaign=multilingual&utm_content=multilingual-blog-post&utm_source=google&utm_medium=paid_search&utm_campaign=&utm_term=multilingual%20llm&utm_content=&hsa_acc=8779610535&hsa_cam=20957109982&hsa_grp=158242513895&hsa_ad=688126356904&hsa_src=g&hsa_tgt=kwd-2228024943017&hsa_kw=multilingual%20llm&hsa_mt=b&hsa_net=adwords&hsa_ver=3&gad_source=1&gclid=Cj0KCQjw99e4BhDiARIsAISE7P-8lapEODR3L9fXGY9r-xpddqrBDTD7xDQKVjKVolYNEU72v5i0WRcaAlA8EALw_wcB', 'title': 'Introducing multilingual capabilities with Palmyra LLMs - Writer', 'description': 'Palmyra, the Writer-built family of LLMs, now supports highly-accurate text generation and translation in over 30 languages. Find out more.', 'language': 'en-US'}, page_content='\\n\\n\\n\\n\\n\\n\\nIntroducing multilingual capabilities with Palmyra LLMs - Writer\\n\\n\\n\\n\\n\\n\\n\\n\\n\\n\\n\\n\\n\\n\\n\\n\\n\\n\\n\\n\\n\\n\\n\\n\\n\\n\\n\\n\\n\\n\\n\\n\\n\\n\\n\\n\\n\\n\\n\\n\\n\\n\\n\\n\\n\\n\\n\\n\\n\\n\\n\\n\\n\\n\\n\\n\\n\\n\\n\\n\\n\\n\\n\\n\\n\\n\\n\\n\\n\\n\\n\\n\\n\\n\\n\\n\\n\\n\\n\\n\\n\\n\\n\\n\\n\\n\\n\\n\\n\\n\\n\\n\\n\\n\\n\\n\\n\\n\\n\\n\\n\\n\\n\\n\\n\\n\\n\\n\\n\\n\\n\\n\\n\\n\\n\\n\\n\\n\\n\\n\\n\\n\\n\\n\\n\\n\\n\\n\\n\\n\\n\\nAI in action\\nAI in the enterprise\\nHumans of AI\\nWords at work\\nInside Writer\\n\\n\\n\\n\\n\\n\\n\\n\\n\\n\\n\\n\\n\\n\\n\\n\\n\\n\\n\\n\\nSubscribe to Writer’s Brief for monthly dispatches straight to your inbox\\n\\n\\n\\n\\n\\n\\n\\n\\n\\n\\n\\n\\n\\n\\n\\n\\n\\n\\nVisit Writer\\n\\n\\n\\n\\nTry Writer for free\\n\\n\\n\\n\\n\\n\\n\\n\\n\\n\\n\\nInside Writer \\n–\\n       4 min read     \\n\\n\\n\\n\\n\\nIntroducing multilingual capabilities with Palmyra LLMs\\n\\n\\n\\n\\n\\n \\n\\n\\nWriter Team \\n\\xa0\\xa0|\\xa0\\xa0January 17, 2024 \\n\\n\\n\\n\\n \\n\\n\\n \\n\\n\\n\\n\\n\\n\\n\\nAs enterprises look to accelerate growth and diversify revenue streams, expanding their global presence has become increasingly important. So it’s no surprise that multilingual capabilities are some of the most commonly requested features from our customers. Today we’re thrilled to share that Palmyra, the Writer-built family of LLMs, supports highly-accurate text generation and translation in over 30 languages, including Spanish, French, Chinese, Hindi, Arabic, and Russian.\\n\\n\\n\\n\\n\\n\\n\\n\\n\\n\\n\\n\\nSummarized by Writer\\n\\n\\n\\nPalmyra LLMs now support highly-accurate text generation and translation in over 30 languages, including Spanish, French, Chinese, Hindi, Arabic, and Russian.\\nPalmyra has achieved exceptional performance and accuracy, outperforming other models on leading translation and text generation benchmarks such as WMT 2014 – BLEU-4 and MMLU.\\nMultilingual support is now available in the chat interface, Ask Writer, on desktop experiences, and in AI apps.\\nThese new capabilities can be used to improve business processes across every function, such as creating personalized outbound sales emails, translating product descriptions, and enabling support teams with digital assistants in local languages.\\n\\n\\n\\n\\nExceptional performance and accuracy\\nPalmyra has undergone rigorous benchmarking tests to measure its performance in translations and text generation. In fact, in Stanford HELM’s most recent update, Palmyra scored the highest of all models on WMT 2014 – BLEU-4, a leading benchmark on translation performance, outperforming PaLM by Google, Claude by Anthropic, and GPT-4 by OpenAI.\\nTo further evaluate translation accuracy by language, the Writer team measured Palmyra against BLEU, another commonly used translation benchmark, in each supported language. A score above 60 on BLEU indicates that the quality exceeds that of human translation. We’re excited to share that Palmyra’s score by language ranges between 52.5 and 79.3.\\nTo evaluate the quality of Palmyra’s multilingual text generation capabilities, the Writer team evaluated output by language against the MMLU and MLMM benchmarks. These tests cover 57 tasks, including elementary mathematics, US history, computer science, law, and more. To achieve a high score, models must possess extensive world knowledge and problem-solving skills.\\nAs a comparison, in Stanford HELM’s most recent update, Palmyra scored 70.2 on MMLU in English, taking the top score of all production-ready models evaluated. We’re thrilled to share that Palmyra’s MMLU and MLMM scores for non-English languages range between 63.3 and 77.9.\\n\\nWhile these benchmarking results are strong, like with any generative AI output, generated text should only be viewed as an exceptional first draft. We recommend that human experts review all outputs to guarantee accuracy. Detailed benchmarking results by language are available here.\\nEndless real-world applications\\nMultilingual capabilities are now available in the chat interface, Ask Writer, on desktop experiences, and in AI apps. Here are just a few ways that these new capabilities can support your entire organization to run faster:\\n\\nShorten sales cycles by creating personalized outbound emails in your prospect’s language\\nAccelerate time to market by quickly translating product descriptions into multiple languages\\nImprove customer satisfaction by enabling support teams with digital assistants that answer questions in local languages\\n\\nTranslate product descriptions into multiple languages with an AI appDraft Spanish outbound emails with the desktop experienceAsk how two products compare in Chinese with Ask Writer\\nA powerful family of LLMs\\nThe accuracy of its multilingual capabilities is just one of the reasons Palmyra LLMs stand out in their field. Palmyra is trained on 1 trillion tokens of formal writing and is completely auditable, with the ability to inspect code, data, and model weights. We keep customer data private and do not use or share it for model training. In addition to being top-ranked by Stanford HELM, Palmyra is fine-tuned for specific industries like healthcare.\\nEnterprises choose the Writer full-stack generative AI platform not just for our powerful models, but also for our graph-based RAG, Knowledge Graph, powerful AI guardrails, and a flexible application layer. Writer makes it easy for enterprises to transform work with generative AI.\\nTo learn more about our multilingual capabilities and the capabilities of Palmyra LLMs, schedule a demo with our sales team today.\\n\\n\\n\\n\\n\\n\\n\\n\\n\\n\\n\\n\\n\\n\\n\\n\\n\\n\\n\\n\\n\\n\\n\\n\\n\\n\\n\\n\\n\\n\\n\\n\\n\\n\\n\\n\\n\\n \\n\\n\\n\\n\\n\\n\\n\\n\\n\\n\\n\\n\\n\\n\\nMore resources\\n\\n\\n\\n\\n\\n \\n\\nInside Writer \\n–\\n                                         10 min read                                       \\n\\nWe owe our employees more than a rainbow logo\\n\\n\\n\\n \\n\\n\\nMay Habib \\n\\n\\n\\n\\n\\n\\n\\n \\n\\nInside Writer \\n–\\n                                         8 min read                                       \\n\\nIntroducing Writer AI Studio\\n\\n\\n\\n \\n\\n\\nWriter Team \\n\\n\\n\\n\\n\\n\\n\\n \\n\\nInside Writer \\n–\\n                                         7 min read                                       \\n\\nIntroducing intelligent actions with Palmyra X 004\\n\\n\\n\\n \\n\\n\\nWriter Team \\n\\n\\n\\n\\n\\n\\n\\n\\n\\n\\n\\n\\nMonthly dispatches on the AI revolution. Delivered to your inbox.\\n\\n\\n\\n\\n\\n\\n\\n\\n\\n\\n\\n\\nProduct\\n\\nTrust\\nGraph RAG\\nAI guardrails\\nBuild AI apps\\nPalmyra LLMs\\nTry for free\\nRequest a demo\\nTake a product tour\\n\\n\\nResources\\n\\nGuides\\nAI blog\\nAI templates\\nGenerative AI\\nEngineering blog\\nAI content detector\\nGenerative AI for retail\\nGenerative AI for insurance\\n\\n\\nCompany\\n\\nAbout\\nCareers\\nPartners\\nLegal hub\\nNewsroom\\nContact us\\n\\n\\nSupport\\n\\nStatus\\nHelp center\\nAI Academy\\nDeveloper docs\\n\\n\\n \\n\\n\\n\\n\\n\\n\\n\\nGet the latest updates about enterprise AI\\nSubscribe to Writer’s Brief\\n\\n\\n\\n\\n\\n\\n\\n\\n\\n\\n\\n\\n\\n\\n\\n © 2024 WRITER\\n\\n\\n\\n \\n\\n\\n TermsPrivacy\\n\\n\\n\\n\\n\\n\\n\\n\\n\\n\\n\\n\\n\\n\\n\\n\\n\\n\\n\\n\\n\\n\\n\\n\\n\\n\\n\\n\\n\\n\\n\\n\\n\\n\\n\\n\\n\\n\\n\\n\\n\\n\\n\\n\\n\\n\\n\\n\\n\\n\\n\\n\\n\\n\\n\\n')]"
      ]
     },
     "execution_count": 5,
     "metadata": {},
     "output_type": "execute_result"
    }
   ],
   "source": [
    "docs = loader.load()\n",
    "docs"
   ]
  },
  {
   "cell_type": "code",
   "execution_count": 6,
   "metadata": {},
   "outputs": [],
   "source": [
    "#### Load the data --> docs -> divide our doc into chunks --> vectors --> vector EMbedding --> vector storeDB\n",
    "from langchain_text_splitters import RecursiveCharacterTextSplitter\n",
    "\n",
    "text_splitter =  RecursiveCharacterTextSplitter(chunk_size=500, chunk_overlap=100)\n",
    "documents = text_splitter.split_documents(docs)"
   ]
  },
  {
   "cell_type": "code",
   "execution_count": 7,
   "metadata": {},
   "outputs": [
    {
     "data": {
      "text/plain": [
       "[Document(metadata={'source': 'https://writer.com/blog/palmyra-llms-multilingual/?utm_source=google&utm_medium=paid-search&utm_campaign=multilingual&utm_content=multilingual-blog-post&utm_source=google&utm_medium=paid_search&utm_campaign=&utm_term=multilingual%20llm&utm_content=&hsa_acc=8779610535&hsa_cam=20957109982&hsa_grp=158242513895&hsa_ad=688126356904&hsa_src=g&hsa_tgt=kwd-2228024943017&hsa_kw=multilingual%20llm&hsa_mt=b&hsa_net=adwords&hsa_ver=3&gad_source=1&gclid=Cj0KCQjw99e4BhDiARIsAISE7P-8lapEODR3L9fXGY9r-xpddqrBDTD7xDQKVjKVolYNEU72v5i0WRcaAlA8EALw_wcB', 'title': 'Introducing multilingual capabilities with Palmyra LLMs - Writer', 'description': 'Palmyra, the Writer-built family of LLMs, now supports highly-accurate text generation and translation in over 30 languages. Find out more.', 'language': 'en-US'}, page_content='Introducing multilingual capabilities with Palmyra LLMs - Writer\\n\\n\\n\\n\\n\\n\\n\\n\\n\\n\\n\\n\\n\\n\\n\\n\\n\\n\\n\\n\\n\\n\\n\\n\\n\\n\\n\\n\\n\\n\\n\\n\\n\\n\\n\\n\\n\\n\\n\\n\\n\\n\\n\\n\\n\\n\\n\\n\\n\\n\\n\\n\\n\\n\\n\\n\\n\\n\\n\\n\\n\\n\\n\\n\\n\\n\\n\\n\\n\\n\\n\\n\\n\\n\\n\\n\\n\\n\\n\\n\\n\\n\\n\\n\\n\\n\\n\\n\\n\\n\\n\\n\\n\\n\\n\\n\\n\\n\\n\\n\\n\\n\\n\\n\\n\\n\\n\\n\\n\\n\\n\\n\\n\\n\\n\\n\\n\\n\\n\\n\\n\\n\\n\\n\\n\\n\\n\\n\\n\\n\\n\\nAI in action\\nAI in the enterprise\\nHumans of AI\\nWords at work\\nInside Writer\\n\\n\\n\\n\\n\\n\\n\\n\\n\\n\\n\\n\\n\\n\\n\\n\\n\\n\\n\\n\\nSubscribe to Writer’s Brief for monthly dispatches straight to your inbox\\n\\n\\n\\n\\n\\n\\n\\n\\n\\n\\n\\n\\n\\n\\n\\n\\n\\n\\nVisit Writer\\n\\n\\n\\n\\nTry Writer for free\\n\\n\\n\\n\\n\\n\\n\\n\\n\\n\\n\\nInside Writer \\n–\\n       4 min read'),\n",
       " Document(metadata={'source': 'https://writer.com/blog/palmyra-llms-multilingual/?utm_source=google&utm_medium=paid-search&utm_campaign=multilingual&utm_content=multilingual-blog-post&utm_source=google&utm_medium=paid_search&utm_campaign=&utm_term=multilingual%20llm&utm_content=&hsa_acc=8779610535&hsa_cam=20957109982&hsa_grp=158242513895&hsa_ad=688126356904&hsa_src=g&hsa_tgt=kwd-2228024943017&hsa_kw=multilingual%20llm&hsa_mt=b&hsa_net=adwords&hsa_ver=3&gad_source=1&gclid=Cj0KCQjw99e4BhDiARIsAISE7P-8lapEODR3L9fXGY9r-xpddqrBDTD7xDQKVjKVolYNEU72v5i0WRcaAlA8EALw_wcB', 'title': 'Introducing multilingual capabilities with Palmyra LLMs - Writer', 'description': 'Palmyra, the Writer-built family of LLMs, now supports highly-accurate text generation and translation in over 30 languages. Find out more.', 'language': 'en-US'}, page_content='Visit Writer\\n\\n\\n\\n\\nTry Writer for free\\n\\n\\n\\n\\n\\n\\n\\n\\n\\n\\n\\nInside Writer \\n–\\n       4 min read     \\n\\n\\n\\n\\n\\nIntroducing multilingual capabilities with Palmyra LLMs\\n\\n\\n\\n\\n\\n \\n\\n\\nWriter Team \\n\\xa0\\xa0|\\xa0\\xa0January 17, 2024'),\n",
       " Document(metadata={'source': 'https://writer.com/blog/palmyra-llms-multilingual/?utm_source=google&utm_medium=paid-search&utm_campaign=multilingual&utm_content=multilingual-blog-post&utm_source=google&utm_medium=paid_search&utm_campaign=&utm_term=multilingual%20llm&utm_content=&hsa_acc=8779610535&hsa_cam=20957109982&hsa_grp=158242513895&hsa_ad=688126356904&hsa_src=g&hsa_tgt=kwd-2228024943017&hsa_kw=multilingual%20llm&hsa_mt=b&hsa_net=adwords&hsa_ver=3&gad_source=1&gclid=Cj0KCQjw99e4BhDiARIsAISE7P-8lapEODR3L9fXGY9r-xpddqrBDTD7xDQKVjKVolYNEU72v5i0WRcaAlA8EALw_wcB', 'title': 'Introducing multilingual capabilities with Palmyra LLMs - Writer', 'description': 'Palmyra, the Writer-built family of LLMs, now supports highly-accurate text generation and translation in over 30 languages. Find out more.', 'language': 'en-US'}, page_content='As enterprises look to accelerate growth and diversify revenue streams, expanding their global presence has become increasingly important. So it’s no surprise that multilingual capabilities are some of the most commonly requested features from our customers. Today we’re thrilled to share that Palmyra, the Writer-built family of LLMs, supports highly-accurate text generation and translation in over 30 languages, including Spanish, French, Chinese, Hindi, Arabic, and Russian.'),\n",
       " Document(metadata={'source': 'https://writer.com/blog/palmyra-llms-multilingual/?utm_source=google&utm_medium=paid-search&utm_campaign=multilingual&utm_content=multilingual-blog-post&utm_source=google&utm_medium=paid_search&utm_campaign=&utm_term=multilingual%20llm&utm_content=&hsa_acc=8779610535&hsa_cam=20957109982&hsa_grp=158242513895&hsa_ad=688126356904&hsa_src=g&hsa_tgt=kwd-2228024943017&hsa_kw=multilingual%20llm&hsa_mt=b&hsa_net=adwords&hsa_ver=3&gad_source=1&gclid=Cj0KCQjw99e4BhDiARIsAISE7P-8lapEODR3L9fXGY9r-xpddqrBDTD7xDQKVjKVolYNEU72v5i0WRcaAlA8EALw_wcB', 'title': 'Introducing multilingual capabilities with Palmyra LLMs - Writer', 'description': 'Palmyra, the Writer-built family of LLMs, now supports highly-accurate text generation and translation in over 30 languages. Find out more.', 'language': 'en-US'}, page_content='Summarized by Writer'),\n",
       " Document(metadata={'source': 'https://writer.com/blog/palmyra-llms-multilingual/?utm_source=google&utm_medium=paid-search&utm_campaign=multilingual&utm_content=multilingual-blog-post&utm_source=google&utm_medium=paid_search&utm_campaign=&utm_term=multilingual%20llm&utm_content=&hsa_acc=8779610535&hsa_cam=20957109982&hsa_grp=158242513895&hsa_ad=688126356904&hsa_src=g&hsa_tgt=kwd-2228024943017&hsa_kw=multilingual%20llm&hsa_mt=b&hsa_net=adwords&hsa_ver=3&gad_source=1&gclid=Cj0KCQjw99e4BhDiARIsAISE7P-8lapEODR3L9fXGY9r-xpddqrBDTD7xDQKVjKVolYNEU72v5i0WRcaAlA8EALw_wcB', 'title': 'Introducing multilingual capabilities with Palmyra LLMs - Writer', 'description': 'Palmyra, the Writer-built family of LLMs, now supports highly-accurate text generation and translation in over 30 languages. Find out more.', 'language': 'en-US'}, page_content='Palmyra LLMs now support highly-accurate text generation and translation in over 30 languages, including Spanish, French, Chinese, Hindi, Arabic, and Russian.\\nPalmyra has achieved exceptional performance and accuracy, outperforming other models on leading translation and text generation benchmarks such as WMT 2014 – BLEU-4 and MMLU.\\nMultilingual support is now available in the chat interface, Ask Writer, on desktop experiences, and in AI apps.'),\n",
       " Document(metadata={'source': 'https://writer.com/blog/palmyra-llms-multilingual/?utm_source=google&utm_medium=paid-search&utm_campaign=multilingual&utm_content=multilingual-blog-post&utm_source=google&utm_medium=paid_search&utm_campaign=&utm_term=multilingual%20llm&utm_content=&hsa_acc=8779610535&hsa_cam=20957109982&hsa_grp=158242513895&hsa_ad=688126356904&hsa_src=g&hsa_tgt=kwd-2228024943017&hsa_kw=multilingual%20llm&hsa_mt=b&hsa_net=adwords&hsa_ver=3&gad_source=1&gclid=Cj0KCQjw99e4BhDiARIsAISE7P-8lapEODR3L9fXGY9r-xpddqrBDTD7xDQKVjKVolYNEU72v5i0WRcaAlA8EALw_wcB', 'title': 'Introducing multilingual capabilities with Palmyra LLMs - Writer', 'description': 'Palmyra, the Writer-built family of LLMs, now supports highly-accurate text generation and translation in over 30 languages. Find out more.', 'language': 'en-US'}, page_content='These new capabilities can be used to improve business processes across every function, such as creating personalized outbound sales emails, translating product descriptions, and enabling support teams with digital assistants in local languages.'),\n",
       " Document(metadata={'source': 'https://writer.com/blog/palmyra-llms-multilingual/?utm_source=google&utm_medium=paid-search&utm_campaign=multilingual&utm_content=multilingual-blog-post&utm_source=google&utm_medium=paid_search&utm_campaign=&utm_term=multilingual%20llm&utm_content=&hsa_acc=8779610535&hsa_cam=20957109982&hsa_grp=158242513895&hsa_ad=688126356904&hsa_src=g&hsa_tgt=kwd-2228024943017&hsa_kw=multilingual%20llm&hsa_mt=b&hsa_net=adwords&hsa_ver=3&gad_source=1&gclid=Cj0KCQjw99e4BhDiARIsAISE7P-8lapEODR3L9fXGY9r-xpddqrBDTD7xDQKVjKVolYNEU72v5i0WRcaAlA8EALw_wcB', 'title': 'Introducing multilingual capabilities with Palmyra LLMs - Writer', 'description': 'Palmyra, the Writer-built family of LLMs, now supports highly-accurate text generation and translation in over 30 languages. Find out more.', 'language': 'en-US'}, page_content='Exceptional performance and accuracy\\nPalmyra has undergone rigorous benchmarking tests to measure its performance in translations and text generation. In fact, in Stanford HELM’s most recent update, Palmyra scored the highest of all models on WMT 2014 – BLEU-4, a leading benchmark on translation performance, outperforming PaLM by Google, Claude by Anthropic, and GPT-4 by OpenAI.'),\n",
       " Document(metadata={'source': 'https://writer.com/blog/palmyra-llms-multilingual/?utm_source=google&utm_medium=paid-search&utm_campaign=multilingual&utm_content=multilingual-blog-post&utm_source=google&utm_medium=paid_search&utm_campaign=&utm_term=multilingual%20llm&utm_content=&hsa_acc=8779610535&hsa_cam=20957109982&hsa_grp=158242513895&hsa_ad=688126356904&hsa_src=g&hsa_tgt=kwd-2228024943017&hsa_kw=multilingual%20llm&hsa_mt=b&hsa_net=adwords&hsa_ver=3&gad_source=1&gclid=Cj0KCQjw99e4BhDiARIsAISE7P-8lapEODR3L9fXGY9r-xpddqrBDTD7xDQKVjKVolYNEU72v5i0WRcaAlA8EALw_wcB', 'title': 'Introducing multilingual capabilities with Palmyra LLMs - Writer', 'description': 'Palmyra, the Writer-built family of LLMs, now supports highly-accurate text generation and translation in over 30 languages. Find out more.', 'language': 'en-US'}, page_content='To further evaluate translation accuracy by language, the Writer team measured Palmyra against BLEU, another commonly used translation benchmark, in each supported language. A score above 60 on BLEU indicates that the quality exceeds that of human translation. We’re excited to share that Palmyra’s score by language ranges between 52.5 and 79.3.'),\n",
       " Document(metadata={'source': 'https://writer.com/blog/palmyra-llms-multilingual/?utm_source=google&utm_medium=paid-search&utm_campaign=multilingual&utm_content=multilingual-blog-post&utm_source=google&utm_medium=paid_search&utm_campaign=&utm_term=multilingual%20llm&utm_content=&hsa_acc=8779610535&hsa_cam=20957109982&hsa_grp=158242513895&hsa_ad=688126356904&hsa_src=g&hsa_tgt=kwd-2228024943017&hsa_kw=multilingual%20llm&hsa_mt=b&hsa_net=adwords&hsa_ver=3&gad_source=1&gclid=Cj0KCQjw99e4BhDiARIsAISE7P-8lapEODR3L9fXGY9r-xpddqrBDTD7xDQKVjKVolYNEU72v5i0WRcaAlA8EALw_wcB', 'title': 'Introducing multilingual capabilities with Palmyra LLMs - Writer', 'description': 'Palmyra, the Writer-built family of LLMs, now supports highly-accurate text generation and translation in over 30 languages. Find out more.', 'language': 'en-US'}, page_content='To evaluate the quality of Palmyra’s multilingual text generation capabilities, the Writer team evaluated output by language against the MMLU and MLMM benchmarks. These tests cover 57 tasks, including elementary mathematics, US history, computer science, law, and more. To achieve a high score, models must possess extensive world knowledge and problem-solving skills.'),\n",
       " Document(metadata={'source': 'https://writer.com/blog/palmyra-llms-multilingual/?utm_source=google&utm_medium=paid-search&utm_campaign=multilingual&utm_content=multilingual-blog-post&utm_source=google&utm_medium=paid_search&utm_campaign=&utm_term=multilingual%20llm&utm_content=&hsa_acc=8779610535&hsa_cam=20957109982&hsa_grp=158242513895&hsa_ad=688126356904&hsa_src=g&hsa_tgt=kwd-2228024943017&hsa_kw=multilingual%20llm&hsa_mt=b&hsa_net=adwords&hsa_ver=3&gad_source=1&gclid=Cj0KCQjw99e4BhDiARIsAISE7P-8lapEODR3L9fXGY9r-xpddqrBDTD7xDQKVjKVolYNEU72v5i0WRcaAlA8EALw_wcB', 'title': 'Introducing multilingual capabilities with Palmyra LLMs - Writer', 'description': 'Palmyra, the Writer-built family of LLMs, now supports highly-accurate text generation and translation in over 30 languages. Find out more.', 'language': 'en-US'}, page_content='As a comparison, in Stanford HELM’s most recent update, Palmyra scored 70.2 on MMLU in English, taking the top score of all production-ready models evaluated. We’re thrilled to share that Palmyra’s MMLU and MLMM scores for non-English languages range between 63.3 and 77.9.'),\n",
       " Document(metadata={'source': 'https://writer.com/blog/palmyra-llms-multilingual/?utm_source=google&utm_medium=paid-search&utm_campaign=multilingual&utm_content=multilingual-blog-post&utm_source=google&utm_medium=paid_search&utm_campaign=&utm_term=multilingual%20llm&utm_content=&hsa_acc=8779610535&hsa_cam=20957109982&hsa_grp=158242513895&hsa_ad=688126356904&hsa_src=g&hsa_tgt=kwd-2228024943017&hsa_kw=multilingual%20llm&hsa_mt=b&hsa_net=adwords&hsa_ver=3&gad_source=1&gclid=Cj0KCQjw99e4BhDiARIsAISE7P-8lapEODR3L9fXGY9r-xpddqrBDTD7xDQKVjKVolYNEU72v5i0WRcaAlA8EALw_wcB', 'title': 'Introducing multilingual capabilities with Palmyra LLMs - Writer', 'description': 'Palmyra, the Writer-built family of LLMs, now supports highly-accurate text generation and translation in over 30 languages. Find out more.', 'language': 'en-US'}, page_content='While these benchmarking results are strong, like with any generative AI output, generated text should only be viewed as an exceptional first draft. We recommend that human experts review all outputs to guarantee accuracy. Detailed benchmarking results by language are available here.\\nEndless real-world applications'),\n",
       " Document(metadata={'source': 'https://writer.com/blog/palmyra-llms-multilingual/?utm_source=google&utm_medium=paid-search&utm_campaign=multilingual&utm_content=multilingual-blog-post&utm_source=google&utm_medium=paid_search&utm_campaign=&utm_term=multilingual%20llm&utm_content=&hsa_acc=8779610535&hsa_cam=20957109982&hsa_grp=158242513895&hsa_ad=688126356904&hsa_src=g&hsa_tgt=kwd-2228024943017&hsa_kw=multilingual%20llm&hsa_mt=b&hsa_net=adwords&hsa_ver=3&gad_source=1&gclid=Cj0KCQjw99e4BhDiARIsAISE7P-8lapEODR3L9fXGY9r-xpddqrBDTD7xDQKVjKVolYNEU72v5i0WRcaAlA8EALw_wcB', 'title': 'Introducing multilingual capabilities with Palmyra LLMs - Writer', 'description': 'Palmyra, the Writer-built family of LLMs, now supports highly-accurate text generation and translation in over 30 languages. Find out more.', 'language': 'en-US'}, page_content='Endless real-world applications\\nMultilingual capabilities are now available in the chat interface, Ask Writer, on desktop experiences, and in AI apps. Here are just a few ways that these new capabilities can support your entire organization to run faster:'),\n",
       " Document(metadata={'source': 'https://writer.com/blog/palmyra-llms-multilingual/?utm_source=google&utm_medium=paid-search&utm_campaign=multilingual&utm_content=multilingual-blog-post&utm_source=google&utm_medium=paid_search&utm_campaign=&utm_term=multilingual%20llm&utm_content=&hsa_acc=8779610535&hsa_cam=20957109982&hsa_grp=158242513895&hsa_ad=688126356904&hsa_src=g&hsa_tgt=kwd-2228024943017&hsa_kw=multilingual%20llm&hsa_mt=b&hsa_net=adwords&hsa_ver=3&gad_source=1&gclid=Cj0KCQjw99e4BhDiARIsAISE7P-8lapEODR3L9fXGY9r-xpddqrBDTD7xDQKVjKVolYNEU72v5i0WRcaAlA8EALw_wcB', 'title': 'Introducing multilingual capabilities with Palmyra LLMs - Writer', 'description': 'Palmyra, the Writer-built family of LLMs, now supports highly-accurate text generation and translation in over 30 languages. Find out more.', 'language': 'en-US'}, page_content='Shorten sales cycles by creating personalized outbound emails in your prospect’s language\\nAccelerate time to market by quickly translating product descriptions into multiple languages\\nImprove customer satisfaction by enabling support teams with digital assistants that answer questions in local languages'),\n",
       " Document(metadata={'source': 'https://writer.com/blog/palmyra-llms-multilingual/?utm_source=google&utm_medium=paid-search&utm_campaign=multilingual&utm_content=multilingual-blog-post&utm_source=google&utm_medium=paid_search&utm_campaign=&utm_term=multilingual%20llm&utm_content=&hsa_acc=8779610535&hsa_cam=20957109982&hsa_grp=158242513895&hsa_ad=688126356904&hsa_src=g&hsa_tgt=kwd-2228024943017&hsa_kw=multilingual%20llm&hsa_mt=b&hsa_net=adwords&hsa_ver=3&gad_source=1&gclid=Cj0KCQjw99e4BhDiARIsAISE7P-8lapEODR3L9fXGY9r-xpddqrBDTD7xDQKVjKVolYNEU72v5i0WRcaAlA8EALw_wcB', 'title': 'Introducing multilingual capabilities with Palmyra LLMs - Writer', 'description': 'Palmyra, the Writer-built family of LLMs, now supports highly-accurate text generation and translation in over 30 languages. Find out more.', 'language': 'en-US'}, page_content='Translate product descriptions into multiple languages with an AI appDraft Spanish outbound emails with the desktop experienceAsk how two products compare in Chinese with Ask Writer\\nA powerful family of LLMs'),\n",
       " Document(metadata={'source': 'https://writer.com/blog/palmyra-llms-multilingual/?utm_source=google&utm_medium=paid-search&utm_campaign=multilingual&utm_content=multilingual-blog-post&utm_source=google&utm_medium=paid_search&utm_campaign=&utm_term=multilingual%20llm&utm_content=&hsa_acc=8779610535&hsa_cam=20957109982&hsa_grp=158242513895&hsa_ad=688126356904&hsa_src=g&hsa_tgt=kwd-2228024943017&hsa_kw=multilingual%20llm&hsa_mt=b&hsa_net=adwords&hsa_ver=3&gad_source=1&gclid=Cj0KCQjw99e4BhDiARIsAISE7P-8lapEODR3L9fXGY9r-xpddqrBDTD7xDQKVjKVolYNEU72v5i0WRcaAlA8EALw_wcB', 'title': 'Introducing multilingual capabilities with Palmyra LLMs - Writer', 'description': 'Palmyra, the Writer-built family of LLMs, now supports highly-accurate text generation and translation in over 30 languages. Find out more.', 'language': 'en-US'}, page_content='A powerful family of LLMs\\nThe accuracy of its multilingual capabilities is just one of the reasons Palmyra LLMs stand out in their field. Palmyra is trained on 1 trillion tokens of formal writing and is completely auditable, with the ability to inspect code, data, and model weights. We keep customer data private and do not use or share it for model training. In addition to being top-ranked by Stanford HELM, Palmyra is fine-tuned for specific industries like healthcare.'),\n",
       " Document(metadata={'source': 'https://writer.com/blog/palmyra-llms-multilingual/?utm_source=google&utm_medium=paid-search&utm_campaign=multilingual&utm_content=multilingual-blog-post&utm_source=google&utm_medium=paid_search&utm_campaign=&utm_term=multilingual%20llm&utm_content=&hsa_acc=8779610535&hsa_cam=20957109982&hsa_grp=158242513895&hsa_ad=688126356904&hsa_src=g&hsa_tgt=kwd-2228024943017&hsa_kw=multilingual%20llm&hsa_mt=b&hsa_net=adwords&hsa_ver=3&gad_source=1&gclid=Cj0KCQjw99e4BhDiARIsAISE7P-8lapEODR3L9fXGY9r-xpddqrBDTD7xDQKVjKVolYNEU72v5i0WRcaAlA8EALw_wcB', 'title': 'Introducing multilingual capabilities with Palmyra LLMs - Writer', 'description': 'Palmyra, the Writer-built family of LLMs, now supports highly-accurate text generation and translation in over 30 languages. Find out more.', 'language': 'en-US'}, page_content='Enterprises choose the Writer full-stack generative AI platform not just for our powerful models, but also for our graph-based RAG, Knowledge Graph, powerful AI guardrails, and a flexible application layer. Writer makes it easy for enterprises to transform work with generative AI.\\nTo learn more about our multilingual capabilities and the capabilities of Palmyra LLMs, schedule a demo with our sales team today.'),\n",
       " Document(metadata={'source': 'https://writer.com/blog/palmyra-llms-multilingual/?utm_source=google&utm_medium=paid-search&utm_campaign=multilingual&utm_content=multilingual-blog-post&utm_source=google&utm_medium=paid_search&utm_campaign=&utm_term=multilingual%20llm&utm_content=&hsa_acc=8779610535&hsa_cam=20957109982&hsa_grp=158242513895&hsa_ad=688126356904&hsa_src=g&hsa_tgt=kwd-2228024943017&hsa_kw=multilingual%20llm&hsa_mt=b&hsa_net=adwords&hsa_ver=3&gad_source=1&gclid=Cj0KCQjw99e4BhDiARIsAISE7P-8lapEODR3L9fXGY9r-xpddqrBDTD7xDQKVjKVolYNEU72v5i0WRcaAlA8EALw_wcB', 'title': 'Introducing multilingual capabilities with Palmyra LLMs - Writer', 'description': 'Palmyra, the Writer-built family of LLMs, now supports highly-accurate text generation and translation in over 30 languages. Find out more.', 'language': 'en-US'}, page_content='More resources\\n\\n\\n\\n\\n\\n \\n\\nInside Writer \\n–\\n                                         10 min read                                       \\n\\nWe owe our employees more than a rainbow logo\\n\\n\\n\\n \\n\\n\\nMay Habib \\n\\n\\n\\n\\n\\n\\n\\n \\n\\nInside Writer \\n–\\n                                         8 min read                                       \\n\\nIntroducing Writer AI Studio\\n\\n\\n\\n \\n\\n\\nWriter Team'),\n",
       " Document(metadata={'source': 'https://writer.com/blog/palmyra-llms-multilingual/?utm_source=google&utm_medium=paid-search&utm_campaign=multilingual&utm_content=multilingual-blog-post&utm_source=google&utm_medium=paid_search&utm_campaign=&utm_term=multilingual%20llm&utm_content=&hsa_acc=8779610535&hsa_cam=20957109982&hsa_grp=158242513895&hsa_ad=688126356904&hsa_src=g&hsa_tgt=kwd-2228024943017&hsa_kw=multilingual%20llm&hsa_mt=b&hsa_net=adwords&hsa_ver=3&gad_source=1&gclid=Cj0KCQjw99e4BhDiARIsAISE7P-8lapEODR3L9fXGY9r-xpddqrBDTD7xDQKVjKVolYNEU72v5i0WRcaAlA8EALw_wcB', 'title': 'Introducing multilingual capabilities with Palmyra LLMs - Writer', 'description': 'Palmyra, the Writer-built family of LLMs, now supports highly-accurate text generation and translation in over 30 languages. Find out more.', 'language': 'en-US'}, page_content='Introducing Writer AI Studio\\n\\n\\n\\n \\n\\n\\nWriter Team \\n\\n\\n\\n\\n\\n\\n\\n \\n\\nInside Writer \\n–\\n                                         7 min read                                       \\n\\nIntroducing intelligent actions with Palmyra X 004\\n\\n\\n\\n \\n\\n\\nWriter Team \\n\\n\\n\\n\\n\\n\\n\\n\\n\\n\\n\\n\\nMonthly dispatches on the AI revolution. Delivered to your inbox.\\n\\n\\n\\n\\n\\n\\n\\n\\n\\n\\n\\n\\nProduct\\n\\nTrust\\nGraph RAG\\nAI guardrails\\nBuild AI apps\\nPalmyra LLMs\\nTry for free\\nRequest a demo\\nTake a product tour\\n\\n\\nResources'),\n",
       " Document(metadata={'source': 'https://writer.com/blog/palmyra-llms-multilingual/?utm_source=google&utm_medium=paid-search&utm_campaign=multilingual&utm_content=multilingual-blog-post&utm_source=google&utm_medium=paid_search&utm_campaign=&utm_term=multilingual%20llm&utm_content=&hsa_acc=8779610535&hsa_cam=20957109982&hsa_grp=158242513895&hsa_ad=688126356904&hsa_src=g&hsa_tgt=kwd-2228024943017&hsa_kw=multilingual%20llm&hsa_mt=b&hsa_net=adwords&hsa_ver=3&gad_source=1&gclid=Cj0KCQjw99e4BhDiARIsAISE7P-8lapEODR3L9fXGY9r-xpddqrBDTD7xDQKVjKVolYNEU72v5i0WRcaAlA8EALw_wcB', 'title': 'Introducing multilingual capabilities with Palmyra LLMs - Writer', 'description': 'Palmyra, the Writer-built family of LLMs, now supports highly-accurate text generation and translation in over 30 languages. Find out more.', 'language': 'en-US'}, page_content='Resources\\n\\nGuides\\nAI blog\\nAI templates\\nGenerative AI\\nEngineering blog\\nAI content detector\\nGenerative AI for retail\\nGenerative AI for insurance\\n\\n\\nCompany\\n\\nAbout\\nCareers\\nPartners\\nLegal hub\\nNewsroom\\nContact us\\n\\n\\nSupport\\n\\nStatus\\nHelp center\\nAI Academy\\nDeveloper docs\\n\\n\\n \\n\\n\\n\\n\\n\\n\\n\\nGet the latest updates about enterprise AI\\nSubscribe to Writer’s Brief\\n\\n\\n\\n\\n\\n\\n\\n\\n\\n\\n\\n\\n\\n\\n\\n © 2024 WRITER\\n\\n\\n\\n \\n\\n\\n TermsPrivacy')]"
      ]
     },
     "execution_count": 7,
     "metadata": {},
     "output_type": "execute_result"
    }
   ],
   "source": [
    "documents"
   ]
  },
  {
   "cell_type": "code",
   "execution_count": 8,
   "metadata": {},
   "outputs": [],
   "source": [
    "from langchain_openai import OpenAIEmbeddings\n",
    "\n",
    "embeddings = OpenAIEmbeddings()"
   ]
  },
  {
   "cell_type": "code",
   "execution_count": 9,
   "metadata": {},
   "outputs": [],
   "source": [
    "from langchain_community.vectorstores import FAISS\n",
    "\n",
    "vectorstoredb = FAISS.from_documents(documents,embeddings)"
   ]
  },
  {
   "cell_type": "code",
   "execution_count": 10,
   "metadata": {},
   "outputs": [
    {
     "data": {
      "text/plain": [
       "<langchain_community.vectorstores.faiss.FAISS at 0x152af23caf0>"
      ]
     },
     "execution_count": 10,
     "metadata": {},
     "output_type": "execute_result"
    }
   ],
   "source": [
    "vectorstoredb"
   ]
  },
  {
   "cell_type": "code",
   "execution_count": 12,
   "metadata": {},
   "outputs": [
    {
     "data": {
      "text/plain": [
       "'Shorten sales cycles by creating personalized outbound emails in your prospect’s language\\nAccelerate time to market by quickly translating product descriptions into multiple languages\\nImprove customer satisfaction by enabling support teams with digital assistants that answer questions in local languages'"
      ]
     },
     "execution_count": 12,
     "metadata": {},
     "output_type": "execute_result"
    }
   ],
   "source": [
    "## QUREY From a vector DB\n",
    "qurey=\"Shorten sales cycles by creating personalized outbound\"\n",
    "result= vectorstoredb.similarity_search(qurey)\n",
    "result[0].page_content"
   ]
  },
  {
   "cell_type": "code",
   "execution_count": 13,
   "metadata": {},
   "outputs": [],
   "source": [
    "from langchain_openai import ChatOpenAI\n",
    "llm= ChatOpenAI(model=\"gpt-4o\")"
   ]
  },
  {
   "cell_type": "code",
   "execution_count": 14,
   "metadata": {},
   "outputs": [
    {
     "data": {
      "text/plain": [
       "RunnableBinding(bound=RunnableBinding(bound=RunnableAssign(mapper={\n",
       "  context: RunnableLambda(format_docs)\n",
       "}), kwargs={}, config={'run_name': 'format_inputs'}, config_factories=[])\n",
       "| ChatPromptTemplate(input_variables=['context'], input_types={}, partial_variables={}, messages=[HumanMessagePromptTemplate(prompt=PromptTemplate(input_variables=['context'], input_types={}, partial_variables={}, template='\\nAnswer the following question based only on the provided context:\\n<context>\\n{context}\\n</context>\\n\\n'), additional_kwargs={})])\n",
       "| ChatOpenAI(client=<openai.resources.chat.completions.Completions object at 0x00000153607D3B50>, async_client=<openai.resources.chat.completions.AsyncCompletions object at 0x00000153607D2950>, root_client=<openai.OpenAI object at 0x00000153607D0430>, root_async_client=<openai.AsyncOpenAI object at 0x00000153607D3280>, model_name='gpt-4o', model_kwargs={}, openai_api_key=SecretStr('**********'))\n",
       "| StrOutputParser(), kwargs={}, config={'run_name': 'stuff_documents_chain'}, config_factories=[])"
      ]
     },
     "execution_count": 14,
     "metadata": {},
     "output_type": "execute_result"
    }
   ],
   "source": [
    "### Retrival chain, document chain\n",
    "from langchain.chains.combine_documents import create_stuff_documents_chain\n",
    "from langchain_core.prompts import ChatPromptTemplate\n",
    "\n",
    "prompt= ChatPromptTemplate.from_template(\n",
    "    \"\"\"\n",
    "Answer the following question based only on the provided context:\n",
    "<context>\n",
    "{context}\n",
    "</context>\n",
    "\n",
    "\"\"\"\n",
    ")\n",
    "\n",
    "document_chain= create_stuff_documents_chain(llm,prompt)\n",
    "document_chain"
   ]
  },
  {
   "cell_type": "code",
   "execution_count": 17,
   "metadata": {},
   "outputs": [
    {
     "data": {
      "text/plain": [
       "'To shorten sales cycles, you can create personalized outbound emails that are written in the language of your prospect. This approach can enhance communication, make your outreach more relatable, and potentially speed up the decision-making process.'"
      ]
     },
     "execution_count": 17,
     "metadata": {},
     "output_type": "execute_result"
    }
   ],
   "source": [
    "from langchain_core.documents import Document\n",
    "document_chain.invoke({\n",
    "    \"input\":\"Shorten sales cycles by creating personalized outbound\",\n",
    "    \"context\":[Document(page_content=\"Shorten sales cycles by creating personalized outbound emails in your prospect’s language\")]\n",
    "})"
   ]
  },
  {
   "cell_type": "markdown",
   "metadata": {},
   "source": [
    "However we want documents to first come from the retriver we just set up. That way, we can use the retriever tho dynamically select the most relavent document and pass those in for a give question."
   ]
  },
  {
   "cell_type": "code",
   "execution_count": 18,
   "metadata": {},
   "outputs": [
    {
     "data": {
      "text/plain": [
       "<langchain_community.vectorstores.faiss.FAISS at 0x152af23caf0>"
      ]
     },
     "execution_count": 18,
     "metadata": {},
     "output_type": "execute_result"
    }
   ],
   "source": [
    "## input ---> retriever----> vectorstoreDB\n",
    "\n",
    "vectorstoredb"
   ]
  },
  {
   "cell_type": "code",
   "execution_count": 22,
   "metadata": {},
   "outputs": [],
   "source": [
    "retriever_var = vectorstoredb.as_retriever()\n",
    "from langchain.chains import create_retrieval_chain\n",
    "retriever_chain = create_retrieval_chain(retriever_var, document_chain)"
   ]
  },
  {
   "cell_type": "code",
   "execution_count": 23,
   "metadata": {},
   "outputs": [
    {
     "data": {
      "text/plain": [
       "RunnableBinding(bound=RunnableAssign(mapper={\n",
       "  context: RunnableBinding(bound=RunnableLambda(lambda x: x['input'])\n",
       "           | VectorStoreRetriever(tags=['FAISS', 'OpenAIEmbeddings'], vectorstore=<langchain_community.vectorstores.faiss.FAISS object at 0x00000152AF23CAF0>, search_kwargs={}), kwargs={}, config={'run_name': 'retrieve_documents'}, config_factories=[])\n",
       "})\n",
       "| RunnableAssign(mapper={\n",
       "    answer: RunnableBinding(bound=RunnableBinding(bound=RunnableAssign(mapper={\n",
       "              context: RunnableLambda(format_docs)\n",
       "            }), kwargs={}, config={'run_name': 'format_inputs'}, config_factories=[])\n",
       "            | ChatPromptTemplate(input_variables=['context'], input_types={}, partial_variables={}, messages=[HumanMessagePromptTemplate(prompt=PromptTemplate(input_variables=['context'], input_types={}, partial_variables={}, template='\\nAnswer the following question based only on the provided context:\\n<context>\\n{context}\\n</context>\\n\\n'), additional_kwargs={})])\n",
       "            | ChatOpenAI(client=<openai.resources.chat.completions.Completions object at 0x00000153607D3B50>, async_client=<openai.resources.chat.completions.AsyncCompletions object at 0x00000153607D2950>, root_client=<openai.OpenAI object at 0x00000153607D0430>, root_async_client=<openai.AsyncOpenAI object at 0x00000153607D3280>, model_name='gpt-4o', model_kwargs={}, openai_api_key=SecretStr('**********'))\n",
       "            | StrOutputParser(), kwargs={}, config={'run_name': 'stuff_documents_chain'}, config_factories=[])\n",
       "  }), kwargs={}, config={'run_name': 'retrieval_chain'}, config_factories=[])"
      ]
     },
     "execution_count": 23,
     "metadata": {},
     "output_type": "execute_result"
    }
   ],
   "source": [
    "retriever_chain"
   ]
  },
  {
   "cell_type": "code",
   "execution_count": 25,
   "metadata": {},
   "outputs": [
    {
     "data": {
      "text/plain": [
       "'What are the benefits of using multilingual capabilities in business processes according to the provided context?\\n\\nThe benefits include shortening sales cycles by creating personalized outbound emails in the prospect’s language, accelerating time to market by quickly translating product descriptions into multiple languages, and improving customer satisfaction by enabling support teams with digital assistants that answer questions in local languages.'"
      ]
     },
     "execution_count": 25,
     "metadata": {},
     "output_type": "execute_result"
    }
   ],
   "source": [
    "## get the response from the LLM\n",
    "\n",
    "response = retriever_chain.invoke({\"input\":\"Shorten sales cycles by creating personalized outbound\"})\n",
    "response['answer']"
   ]
  },
  {
   "cell_type": "code",
   "execution_count": 26,
   "metadata": {},
   "outputs": [
    {
     "data": {
      "text/plain": [
       "{'input': 'Shorten sales cycles by creating personalized outbound',\n",
       " 'context': [Document(metadata={'source': 'https://writer.com/blog/palmyra-llms-multilingual/?utm_source=google&utm_medium=paid-search&utm_campaign=multilingual&utm_content=multilingual-blog-post&utm_source=google&utm_medium=paid_search&utm_campaign=&utm_term=multilingual%20llm&utm_content=&hsa_acc=8779610535&hsa_cam=20957109982&hsa_grp=158242513895&hsa_ad=688126356904&hsa_src=g&hsa_tgt=kwd-2228024943017&hsa_kw=multilingual%20llm&hsa_mt=b&hsa_net=adwords&hsa_ver=3&gad_source=1&gclid=Cj0KCQjw99e4BhDiARIsAISE7P-8lapEODR3L9fXGY9r-xpddqrBDTD7xDQKVjKVolYNEU72v5i0WRcaAlA8EALw_wcB', 'title': 'Introducing multilingual capabilities with Palmyra LLMs - Writer', 'description': 'Palmyra, the Writer-built family of LLMs, now supports highly-accurate text generation and translation in over 30 languages. Find out more.', 'language': 'en-US'}, page_content='Shorten sales cycles by creating personalized outbound emails in your prospect’s language\\nAccelerate time to market by quickly translating product descriptions into multiple languages\\nImprove customer satisfaction by enabling support teams with digital assistants that answer questions in local languages'),\n",
       "  Document(metadata={'source': 'https://writer.com/blog/palmyra-llms-multilingual/?utm_source=google&utm_medium=paid-search&utm_campaign=multilingual&utm_content=multilingual-blog-post&utm_source=google&utm_medium=paid_search&utm_campaign=&utm_term=multilingual%20llm&utm_content=&hsa_acc=8779610535&hsa_cam=20957109982&hsa_grp=158242513895&hsa_ad=688126356904&hsa_src=g&hsa_tgt=kwd-2228024943017&hsa_kw=multilingual%20llm&hsa_mt=b&hsa_net=adwords&hsa_ver=3&gad_source=1&gclid=Cj0KCQjw99e4BhDiARIsAISE7P-8lapEODR3L9fXGY9r-xpddqrBDTD7xDQKVjKVolYNEU72v5i0WRcaAlA8EALw_wcB', 'title': 'Introducing multilingual capabilities with Palmyra LLMs - Writer', 'description': 'Palmyra, the Writer-built family of LLMs, now supports highly-accurate text generation and translation in over 30 languages. Find out more.', 'language': 'en-US'}, page_content='These new capabilities can be used to improve business processes across every function, such as creating personalized outbound sales emails, translating product descriptions, and enabling support teams with digital assistants in local languages.'),\n",
       "  Document(metadata={'source': 'https://writer.com/blog/palmyra-llms-multilingual/?utm_source=google&utm_medium=paid-search&utm_campaign=multilingual&utm_content=multilingual-blog-post&utm_source=google&utm_medium=paid_search&utm_campaign=&utm_term=multilingual%20llm&utm_content=&hsa_acc=8779610535&hsa_cam=20957109982&hsa_grp=158242513895&hsa_ad=688126356904&hsa_src=g&hsa_tgt=kwd-2228024943017&hsa_kw=multilingual%20llm&hsa_mt=b&hsa_net=adwords&hsa_ver=3&gad_source=1&gclid=Cj0KCQjw99e4BhDiARIsAISE7P-8lapEODR3L9fXGY9r-xpddqrBDTD7xDQKVjKVolYNEU72v5i0WRcaAlA8EALw_wcB', 'title': 'Introducing multilingual capabilities with Palmyra LLMs - Writer', 'description': 'Palmyra, the Writer-built family of LLMs, now supports highly-accurate text generation and translation in over 30 languages. Find out more.', 'language': 'en-US'}, page_content='Translate product descriptions into multiple languages with an AI appDraft Spanish outbound emails with the desktop experienceAsk how two products compare in Chinese with Ask Writer\\nA powerful family of LLMs'),\n",
       "  Document(metadata={'source': 'https://writer.com/blog/palmyra-llms-multilingual/?utm_source=google&utm_medium=paid-search&utm_campaign=multilingual&utm_content=multilingual-blog-post&utm_source=google&utm_medium=paid_search&utm_campaign=&utm_term=multilingual%20llm&utm_content=&hsa_acc=8779610535&hsa_cam=20957109982&hsa_grp=158242513895&hsa_ad=688126356904&hsa_src=g&hsa_tgt=kwd-2228024943017&hsa_kw=multilingual%20llm&hsa_mt=b&hsa_net=adwords&hsa_ver=3&gad_source=1&gclid=Cj0KCQjw99e4BhDiARIsAISE7P-8lapEODR3L9fXGY9r-xpddqrBDTD7xDQKVjKVolYNEU72v5i0WRcaAlA8EALw_wcB', 'title': 'Introducing multilingual capabilities with Palmyra LLMs - Writer', 'description': 'Palmyra, the Writer-built family of LLMs, now supports highly-accurate text generation and translation in over 30 languages. Find out more.', 'language': 'en-US'}, page_content='Endless real-world applications\\nMultilingual capabilities are now available in the chat interface, Ask Writer, on desktop experiences, and in AI apps. Here are just a few ways that these new capabilities can support your entire organization to run faster:')],\n",
       " 'answer': 'What are the benefits of using multilingual capabilities in business processes according to the provided context?\\n\\nThe benefits include shortening sales cycles by creating personalized outbound emails in the prospect’s language, accelerating time to market by quickly translating product descriptions into multiple languages, and improving customer satisfaction by enabling support teams with digital assistants that answer questions in local languages.'}"
      ]
     },
     "execution_count": 26,
     "metadata": {},
     "output_type": "execute_result"
    }
   ],
   "source": [
    "response"
   ]
  },
  {
   "cell_type": "code",
   "execution_count": null,
   "metadata": {},
   "outputs": [],
   "source": []
  }
 ],
 "metadata": {
  "kernelspec": {
   "display_name": "Python 3",
   "language": "python",
   "name": "python3"
  },
  "language_info": {
   "codemirror_mode": {
    "name": "ipython",
    "version": 3
   },
   "file_extension": ".py",
   "mimetype": "text/x-python",
   "name": "python",
   "nbconvert_exporter": "python",
   "pygments_lexer": "ipython3",
   "version": "3.10.0"
  }
 },
 "nbformat": 4,
 "nbformat_minor": 2
}
