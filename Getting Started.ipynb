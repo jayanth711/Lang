{
 "cells": [
  {
   "cell_type": "code",
   "execution_count": null,
   "metadata": {},
   "outputs": [],
   "source": [
    "import os\n",
    "from dotenv import load_dotenv\n",
    "load_dotenv()\n",
    "\n",
    "os. environ['OPENAI_API_KEY']=os.getenv(\"OPENAI_API_KEY\")\n",
    "os.environ['LANGCHAIN_API_KEY']=os.getenv(\"LANGCHAIN_API_KEY\")\n",
    "os.environ['LANGCHAIN_TRACING_V2']=\"true\"\n",
    "os.environ[\"LANGCHAIN_PROJECT\"]= os.getenv(\"LANGCHAIN_PROJECT\")"
   ]
  },
  {
   "cell_type": "code",
   "execution_count": null,
   "metadata": {},
   "outputs": [
    {
     "name": "stdout",
     "output_type": "stream",
     "text": [
      "client=<openai.resources.chat.completions.Completions object at 0x000002E46CA480D0> async_client=<openai.resources.chat.completions.AsyncCompletions object at 0x000002E46CA4A140> root_client=<openai.OpenAI object at 0x000002E46CA364A0> root_async_client=<openai.AsyncOpenAI object at 0x000002E46CA48130> model_name='gpt-4o' model_kwargs={} openai_api_key=SecretStr('**********')\n"
     ]
    }
   ],
   "source": [
    "from langchain_openai import ChatOpenAI\n",
    "llm= ChatOpenAI(model=\"gpt-4o\")\n",
    "print(llm)"
   ]
  },
  {
   "cell_type": "code",
   "execution_count": 5,
   "metadata": {},
   "outputs": [],
   "source": [
    "#### Input and get response from LLM\n",
    "result = llm.invoke(\"what is gen ai\")"
   ]
  },
  {
   "cell_type": "code",
   "execution_count": 7,
   "metadata": {},
   "outputs": [
    {
     "name": "stdout",
     "output_type": "stream",
     "text": [
      "content=\"Generative AI refers to a category of artificial intelligence systems designed to generate new content. This can include creating text, images, music, and other forms of media. These systems use machine learning models, particularly deep learning techniques, to learn patterns and structures from existing data and then generate new, similar data. Some popular examples of generative AI include:\\n\\n1. **Text Generation**: Models like OpenAI's GPT (Generative Pre-trained Transformer) can generate human-like text and are used for applications such as chatbots, content creation, and language translation.\\n\\n2. **Image Generation**: Tools like DALL-E and Midjourney can create novel images from textual descriptions, allowing for applications in design, art, and more.\\n\\n3. **Music and Audio**: AI models can also create music or generate voice content, offering innovative solutions for the entertainment industry.\\n\\n4. **Video**: Emerging AI technologies are beginning to enable the generation of video content, though this area is still developing.\\n\\nGenerative AI is transforming various industries by automating creative processes, enhancing productivity, and enabling new forms of artistic expression. However, it also raises ethical and societal questions, including concerns about copyright, authenticity, and the potential for misuse.\" additional_kwargs={'refusal': None} response_metadata={'token_usage': {'completion_tokens': 247, 'prompt_tokens': 11, 'total_tokens': 258, 'completion_tokens_details': {'audio_tokens': None, 'reasoning_tokens': 0}, 'prompt_tokens_details': {'audio_tokens': None, 'cached_tokens': 0}}, 'model_name': 'gpt-4o-2024-08-06', 'system_fingerprint': 'fp_45c6de4934', 'finish_reason': 'stop', 'logprobs': None} id='run-678c7833-929f-4f04-8367-627753834a2f-0' usage_metadata={'input_tokens': 11, 'output_tokens': 247, 'total_tokens': 258, 'input_token_details': {'cache_read': 0}, 'output_token_details': {'reasoning': 0}}\n"
     ]
    }
   ],
   "source": [
    "print(result)"
   ]
  },
  {
   "cell_type": "code",
   "execution_count": 9,
   "metadata": {},
   "outputs": [
    {
     "data": {
      "text/plain": [
       "ChatPromptTemplate(input_variables=['input'], input_types={}, partial_variables={}, messages=[SystemMessagePromptTemplate(prompt=PromptTemplate(input_variables=[], input_types={}, partial_variables={}, template='You are an Python expert. provide some code for me'), additional_kwargs={}), HumanMessagePromptTemplate(prompt=PromptTemplate(input_variables=['input'], input_types={}, partial_variables={}, template='{input}'), additional_kwargs={})])"
      ]
     },
     "execution_count": 9,
     "metadata": {},
     "output_type": "execute_result"
    }
   ],
   "source": [
    "#### CHAT PROMPT template\n",
    "\n",
    "from langchain_core.prompts import ChatPromptTemplate\n",
    "\n",
    "prompt = ChatPromptTemplate.from_messages(\n",
    "    [\n",
    "        (\"system\",\"You are an Python expert. provide some code for me\"),\n",
    "        (\"user\",\"{input}\")\n",
    "    ]\n",
    ")\n",
    "prompt"
   ]
  },
  {
   "cell_type": "code",
   "execution_count": 10,
   "metadata": {},
   "outputs": [
    {
     "name": "stdout",
     "output_type": "stream",
     "text": [
      "content='Certainly! Below is a Python function that checks if a number is prime and another function that generates a list of prime numbers up to a specified limit.\\n\\n```python\\ndef is_prime(n):\\n    \"\"\"Check if a number is prime.\"\"\"\\n    if n <= 1:\\n        return False\\n    if n <= 3:\\n        return True\\n    if n % 2 == 0 or n % 3 == 0:\\n        return False\\n    i = 5\\n    while i * i <= n:\\n        if n % i == 0 or n % (i + 2) == 0:\\n            return False\\n        i += 6\\n    return True\\n\\ndef generate_primes(limit):\\n    \"\"\"Generate a list of prime numbers up to a specified limit.\"\"\"\\n    primes = []\\n    for num in range(2, limit + 1):\\n        if is_prime(num):\\n            primes.append(num)\\n    return primes\\n\\n# Example usage:\\nprime_list = generate_primes(50)\\nprint(\"Prime numbers up to 50:\", prime_list)\\n```\\n\\n### Explanation:\\n- `is_prime(n)`: This function checks if `n` is a prime number. It handles cases where `n` is less than or equal to 3 separately and uses a loop to check divisibility for numbers greater than 3.\\n- `generate_primes(limit)`: This function generates all prime numbers up to the specified `limit`. It iterates through each number from 2 to the limit and uses the `is_prime` function to determine if the number is prime.\\n\\nYou can change the `limit` in the `generate_primes` function call to generate primes up to a different number.' additional_kwargs={'refusal': None} response_metadata={'token_usage': {'completion_tokens': 346, 'prompt_tokens': 30, 'total_tokens': 376, 'completion_tokens_details': {'audio_tokens': None, 'reasoning_tokens': 0}, 'prompt_tokens_details': {'audio_tokens': None, 'cached_tokens': 0}}, 'model_name': 'gpt-4o-2024-08-06', 'system_fingerprint': 'fp_a7d06e42a7', 'finish_reason': 'stop', 'logprobs': None} id='run-1aad81fa-e63b-4a0c-9e39-994b2e4d99ba-0' usage_metadata={'input_tokens': 30, 'output_tokens': 346, 'total_tokens': 376, 'input_token_details': {'cache_read': 0}, 'output_token_details': {'reasoning': 0}}\n"
     ]
    }
   ],
   "source": [
    "chain= prompt|llm\n",
    "\n",
    "response = chain.invoke({\"input\":\"can you give me code for prime numbers\"})\n",
    "print(response)"
   ]
  },
  {
   "cell_type": "code",
   "execution_count": 11,
   "metadata": {},
   "outputs": [
    {
     "data": {
      "text/plain": [
       "langchain_core.messages.ai.AIMessage"
      ]
     },
     "execution_count": 11,
     "metadata": {},
     "output_type": "execute_result"
    }
   ],
   "source": [
    "type(response)"
   ]
  },
  {
   "cell_type": "code",
   "execution_count": 12,
   "metadata": {},
   "outputs": [
    {
     "name": "stdout",
     "output_type": "stream",
     "text": [
      "Certainly! Here's a simple Python function to multiply two numbers:\n",
      "\n",
      "```python\n",
      "def multiply_numbers(a, b):\n",
      "    \"\"\"\n",
      "    Multiply two numbers and return the result.\n",
      "\n",
      "    Parameters:\n",
      "    a (int, float): The first number.\n",
      "    b (int, float): The second number.\n",
      "\n",
      "    Returns:\n",
      "    int, float: The product of the two numbers.\n",
      "    \"\"\"\n",
      "    return a * b\n",
      "\n",
      "# Example usage\n",
      "num1 = 5\n",
      "num2 = 10\n",
      "result = multiply_numbers(num1, num2)\n",
      "print(f\"The product of {num1} and {num2} is {result}.\")\n",
      "```\n",
      "\n",
      "This function, `multiply_numbers`, takes two arguments and returns their product. You can use it to multiply any two integers or floating-point numbers.\n"
     ]
    }
   ],
   "source": [
    "#### string output parser\n",
    "\n",
    "from langchain_core.output_parsers import StrOutputParser\n",
    "output_parser= StrOutputParser()\n",
    "chain= prompt|llm|output_parser\n",
    "\n",
    "response = chain.invoke({\"input\":\"can you give me code for multipication of numbers\"})\n",
    "print(response)"
   ]
  },
  {
   "cell_type": "code",
   "execution_count": null,
   "metadata": {},
   "outputs": [],
   "source": []
  }
 ],
 "metadata": {
  "kernelspec": {
   "display_name": "Python 3",
   "language": "python",
   "name": "python3"
  },
  "language_info": {
   "codemirror_mode": {
    "name": "ipython",
    "version": 3
   },
   "file_extension": ".py",
   "mimetype": "text/x-python",
   "name": "python",
   "nbconvert_exporter": "python",
   "pygments_lexer": "ipython3",
   "version": "3.10.0"
  }
 },
 "nbformat": 4,
 "nbformat_minor": 2
}
