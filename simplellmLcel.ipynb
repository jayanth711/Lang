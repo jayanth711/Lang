{
 "cells": [
  {
   "cell_type": "markdown",
   "metadata": {},
   "source": [
    "#### Build a simple LLm application with LCEL"
   ]
  },
  {
   "cell_type": "code",
   "execution_count": 1,
   "metadata": {},
   "outputs": [
    {
     "data": {
      "text/plain": [
       "'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'"
      ]
     },
     "execution_count": 1,
     "metadata": {},
     "output_type": "execute_result"
    }
   ],
   "source": [
    "### Open AI api KEY AND OPEN SOURCE MODELS(lLAMMA 3 , Gemma2, Mistral)--> Groq\n",
    "import os\n",
    "from dotenv import load_dotenv\n",
    "load_dotenv()\n",
    "\n",
    "\n",
    "import openai\n",
    "openai.api_key=os.getenv(\"OPENAI_API_KEY\")\n",
    "\n",
    "groq_api_key=os.getenv(\"GROQ_API_KEY\")\n",
    "groq_api_key"
   ]
  },
  {
   "cell_type": "code",
   "execution_count": 4,
   "metadata": {},
   "outputs": [
    {
     "data": {
      "text/plain": [
       "ChatGroq(client=<groq.resources.chat.completions.Completions object at 0x0000022B6A6989A0>, async_client=<groq.resources.chat.completions.AsyncCompletions object at 0x0000022B6A8B72B0>, model_name='Gemma2-9b-it', model_kwargs={}, groq_api_key=SecretStr('**********'))"
      ]
     },
     "execution_count": 4,
     "metadata": {},
     "output_type": "execute_result"
    }
   ],
   "source": [
    "from langchain_groq import ChatGroq\n",
    "from langchain_openai import ChatOpenAI\n",
    "model = ChatGroq(model=\"Gemma2-9b-it\",groq_api_key=groq_api_key)\n",
    "model\n"
   ]
  },
  {
   "cell_type": "code",
   "execution_count": 15,
   "metadata": {},
   "outputs": [],
   "source": [
    "from langchain_core.messages import HumanMessage,SystemMessage\n",
    "\n",
    "messages=[\n",
    "    SystemMessage(content=\"Translate the following from English to french, kannada and telugu\"),\n",
    "    HumanMessage(content=\"Hello How are you?\")\n",
    "]\n",
    "\n",
    "result = model.invoke(messages)"
   ]
  },
  {
   "cell_type": "code",
   "execution_count": 16,
   "metadata": {},
   "outputs": [
    {
     "data": {
      "text/plain": [
       "AIMessage(content=\"## Translations:\\n\\n**English:** Hello, How are you?\\n\\n**French:** Bonjour, comment allez-vous ?\\n\\n**Kannada:** ನಮಸ್ತೆ,  ನೀವೆ ಹೇಗಿದ್ದೀರಿ? (Namaste, nive hege iddhiri?)\\n\\n**Telugu:** హలో, మీరు ఎలా ఉన్నారు? (Halo, meeru ela unnaru?)\\n\\n\\nLet me know if you have any other phrases you'd like translated!\\n\", additional_kwargs={}, response_metadata={'token_usage': {'completion_tokens': 103, 'prompt_tokens': 27, 'total_tokens': 130, 'completion_time': 0.187272727, 'prompt_time': 0.00019232, 'queue_time': 0.01486463, 'total_time': 0.187465047}, 'model_name': 'Gemma2-9b-it', 'system_fingerprint': 'fp_10c08bf97d', 'finish_reason': 'stop', 'logprobs': None}, id='run-341214ac-91d4-4161-8d68-afe782f8a11e-0', usage_metadata={'input_tokens': 27, 'output_tokens': 103, 'total_tokens': 130})"
      ]
     },
     "execution_count": 16,
     "metadata": {},
     "output_type": "execute_result"
    }
   ],
   "source": [
    "result"
   ]
  },
  {
   "cell_type": "code",
   "execution_count": 12,
   "metadata": {},
   "outputs": [
    {
     "data": {
      "text/plain": [
       "\"Here are the translations:\\n\\n**French:**\\n\\n* Bonjour  \\n* Comment allez-vous ? \\n\\n**Spanish:**\\n\\n* Hola\\n* ¿Cómo estás? (informal)\\n* ¿Cómo está? (formal)\\n\\n\\n\\n\\nLet me know if you have any other phrases you'd like translated!\\n\""
      ]
     },
     "execution_count": 12,
     "metadata": {},
     "output_type": "execute_result"
    }
   ],
   "source": [
    "from langchain_core.output_parsers import StrOutputParser\n",
    "parser= StrOutputParser()\n",
    "parser.invoke(result)"
   ]
  },
  {
   "cell_type": "code",
   "execution_count": 17,
   "metadata": {},
   "outputs": [
    {
     "data": {
      "text/plain": [
       "'## Translations of \"Hello, how are you?\"\\n\\nHere are the translations of \"Hello, how are you?\" in French, Kannada, and Telugu:\\n\\n* **French:** Bonjour, comment allez-vous ? (Formal) or Salut, ça va ? (Informal)\\n* **Kannada:** ನಮಸ್ಕಾರ, ಹೇಗಿದ್ದೀರಿ? (Namasthe, hege iddhiri?)\\n* **Telugu:** నమస్తే, మీరు ఎలా ఉన్నారు? (Namaste, meeyaru elaa unnaru?)\\n\\n\\nLet me know if you have any other phrases you\\'d like translated!\\n'"
      ]
     },
     "execution_count": 17,
     "metadata": {},
     "output_type": "execute_result"
    }
   ],
   "source": [
    "### Using LCEL-Chain the components\n",
    "chain=model|parser\n",
    "chain.invoke(messages)"
   ]
  },
  {
   "cell_type": "code",
   "execution_count": 18,
   "metadata": {},
   "outputs": [],
   "source": [
    "#### Prompt Templates\n",
    "from langchain_core.prompts import ChatPromptTemplate\n",
    "\n",
    "genric_template= \"Translate the following into {language}:\"\n",
    "\n",
    "prompt= ChatPromptTemplate.from_messages(\n",
    "    [(\"system\",genric_template),(\"user\",\"{text}\")]\n",
    ")"
   ]
  },
  {
   "cell_type": "code",
   "execution_count": 22,
   "metadata": {},
   "outputs": [
    {
     "data": {
      "text/plain": [
       "[SystemMessage(content='Translate the following into french, spanish , telugu:', additional_kwargs={}, response_metadata={}),\n",
       " HumanMessage(content='Hello', additional_kwargs={}, response_metadata={})]"
      ]
     },
     "execution_count": 22,
     "metadata": {},
     "output_type": "execute_result"
    }
   ],
   "source": [
    "result =prompt.invoke({\"language\":\"french, spanish , telugu\",\"text\":\"Hello\"})\n",
    "result.to_messages()"
   ]
  },
  {
   "cell_type": "code",
   "execution_count": 24,
   "metadata": {},
   "outputs": [
    {
     "data": {
      "text/plain": [
       "'Here are translations of \"hello\" into the requested languages:\\n\\n* **French:** Bonjour\\n* **Spanish:** Hola\\n* **Telugu:** నమస్కారం (Namaste or Namaskar) \\n\\n\\nLet me know if you have any other words or phrases you\\'d like translated! 😊 \\n'"
      ]
     },
     "execution_count": 24,
     "metadata": {},
     "output_type": "execute_result"
    }
   ],
   "source": [
    "chain=prompt|model|parser\n",
    "chain.invoke({\"language\":\"french , spanish ,telugu\",\"text\":\"hello\"})"
   ]
  },
  {
   "cell_type": "code",
   "execution_count": null,
   "metadata": {},
   "outputs": [],
   "source": []
  }
 ],
 "metadata": {
  "kernelspec": {
   "display_name": "Python 3",
   "language": "python",
   "name": "python3"
  },
  "language_info": {
   "codemirror_mode": {
    "name": "ipython",
    "version": 3
   },
   "file_extension": ".py",
   "mimetype": "text/x-python",
   "name": "python",
   "nbconvert_exporter": "python",
   "pygments_lexer": "ipython3",
   "version": "3.10.0"
  }
 },
 "nbformat": 4,
 "nbformat_minor": 2
}
